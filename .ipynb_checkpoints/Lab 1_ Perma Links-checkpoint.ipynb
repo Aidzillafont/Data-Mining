{
 "cells": [
  {
   "cell_type": "code",
   "execution_count": 2,
   "metadata": {},
   "outputs": [],
   "source": [
    "import pandas as pd"
   ]
  },
  {
   "cell_type": "code",
   "execution_count": 14,
   "metadata": {},
   "outputs": [],
   "source": [
    "df = pd.read_csv('https://github.com/Aidzillafont/Data-Mining/blob/45adfee829bfa1a39b38be5ed261cbefcd01149b/accessories.csv?raw=true')"
   ]
  },
  {
   "cell_type": "code",
   "execution_count": 25,
   "metadata": {},
   "outputs": [
    {
     "name": "stdout",
     "output_type": "stream",
     "text": [
      "How much weight (grams) in Suger: 20\n",
      "How much weight (grams) in Flour: 20\n",
      "How much weight (grams) in Fruit: 20\n",
      "Your bar weighs 60 grammage!\n",
      "Your bar has 160.6 calories!\n",
      "Dietetic\n"
     ]
    }
   ],
   "source": [
    "#Part 1\n",
    "sugar = int(input('How much weight (grams) in Suger: '))\n",
    "flour = int(input('How much weight (grams) in Flour: '))\n",
    "fruit = int(input('How much weight (grams) in Fruit: '))\n",
    "total_gram = sugar+flour+fruit\n",
    "calories = sugar * 3.87 + flour * 3.64 + fruit * 0.52\n",
    "\n",
    "print('Your bar weighs {0} grammage!'.format(total_gram))\n",
    "print('Your bar has {0} calories!'.format(round(calories,1)))\n",
    "if fruit >= 40:\n",
    "    print('This bar is one portion of your 5 a day!!')\n",
    "if calories >= 401:\n",
    "    print('High Calorie')\n",
    "elif calories >= 201:\n",
    "    print('Normal')\n",
    "else:\n",
    "    print('Dietetic')"
   ]
  }
 ],
 "metadata": {
  "kernelspec": {
   "display_name": "Python 3",
   "language": "python",
   "name": "python3"
  },
  "language_info": {
   "codemirror_mode": {
    "name": "ipython",
    "version": 3
   },
   "file_extension": ".py",
   "mimetype": "text/x-python",
   "name": "python",
   "nbconvert_exporter": "python",
   "pygments_lexer": "ipython3",
   "version": "3.8.5"
  }
 },
 "nbformat": 4,
 "nbformat_minor": 4
}
